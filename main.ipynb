{
 "cells": [
  {
   "cell_type": "code",
   "execution_count": 1,
   "metadata": {},
   "outputs": [
    {
     "ename": "NameError",
     "evalue": "name 'model' is not defined",
     "output_type": "error",
     "traceback": [
      "\u001b[1;31m---------------------------------------------------------------------------\u001b[0m",
      "\u001b[1;31mNameError\u001b[0m                                 Traceback (most recent call last)",
      "Cell \u001b[1;32mIn[1], line 6\u001b[0m\n\u001b[0;32m      3\u001b[0m \u001b[38;5;28;01mfrom\u001b[39;00m \u001b[38;5;21;01mcombined_gui\u001b[39;00m \u001b[38;5;28;01mimport\u001b[39;00m predict\n\u001b[0;32m      5\u001b[0m \u001b[38;5;66;03m# call the predict function\u001b[39;00m\n\u001b[1;32m----> 6\u001b[0m predict(\u001b[43mmodel\u001b[49m, (\u001b[38;5;241m64\u001b[39m, \u001b[38;5;241m60\u001b[39m))\n",
      "\u001b[1;31mNameError\u001b[0m: name 'model' is not defined"
     ]
    }
   ],
   "source": [
    "import pickle\n",
    "import gradio as gr\n",
    "from combined_gui import predict\n",
    "\n",
    "# Load binary_model to use\n",
    "model_pkl = './models/second_binary_model.pkl'\n",
    "  \n",
    "# Load model from pickle file\n",
    "with open(model_pkl, 'rb') as file:  \n",
    "    model = pickle.load(file)  \n",
    "\n",
    "# call the predict function\n",
    "predict(model, (64, 60))"
   ]
  },
  {
   "cell_type": "code",
   "execution_count": null,
   "metadata": {},
   "outputs": [],
   "source": []
  }
 ],
 "metadata": {
  "kernelspec": {
   "display_name": "base",
   "language": "python",
   "name": "python3"
  },
  "language_info": {
   "codemirror_mode": {
    "name": "ipython",
    "version": 3
   },
   "file_extension": ".py",
   "mimetype": "text/x-python",
   "name": "python",
   "nbconvert_exporter": "python",
   "pygments_lexer": "ipython3",
   "version": "3.11.7"
  }
 },
 "nbformat": 4,
 "nbformat_minor": 2
}
