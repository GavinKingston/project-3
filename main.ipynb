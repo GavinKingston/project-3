{
 "cells": [
  {
   "cell_type": "code",
   "execution_count": null,
   "metadata": {},
   "outputs": [
    {
     "name": "stdout",
     "output_type": "stream",
     "text": [
      "[1, 0]\n",
      "Running on local URL:  http://127.0.0.1:7860\n",
      "\n",
      "To create a public link, set `share=True` in `launch()`.\n"
     ]
    },
    {
     "data": {
      "text/html": [
       "<div><iframe src=\"http://127.0.0.1:7860/\" width=\"100%\" height=\"500\" allow=\"autoplay; camera; microphone; clipboard-read; clipboard-write;\" frameborder=\"0\" allowfullscreen></iframe></div>"
      ],
      "text/plain": [
       "<IPython.core.display.HTML object>"
      ]
     },
     "metadata": {},
     "output_type": "display_data"
    },
    {
     "name": "stdout",
     "output_type": "stream",
     "text": [
      "1/1 [==============================] - 0s 357ms/step\n",
      "0\n",
      "1/1 [==============================] - 0s 41ms/step\n",
      "1\n",
      "1/1 [==============================] - 0s 313ms/step\n",
      "1/1 [==============================] - 0s 46ms/step\n",
      "1\n",
      "1/1 [==============================] - 0s 84ms/step\n",
      "1/1 [==============================] - 0s 49ms/step\n",
      "0\n",
      "1/1 [==============================] - 0s 66ms/step\n",
      "1\n",
      "1/1 [==============================] - 0s 75ms/step\n"
     ]
    },
    {
     "name": "stderr",
     "output_type": "stream",
     "text": [
      "Traceback (most recent call last):\n",
      "  File \"c:\\Users\\nick\\anaconda3\\Lib\\site-packages\\gradio\\queueing.py\", line 536, in process_events\n",
      "    response = await route_utils.call_process_api(\n",
      "               ^^^^^^^^^^^^^^^^^^^^^^^^^^^^^^^^^^^\n",
      "  File \"c:\\Users\\nick\\anaconda3\\Lib\\site-packages\\gradio\\route_utils.py\", line 288, in call_process_api\n",
      "    output = await app.get_blocks().process_api(\n",
      "             ^^^^^^^^^^^^^^^^^^^^^^^^^^^^^^^^^^^\n",
      "  File \"c:\\Users\\nick\\anaconda3\\Lib\\site-packages\\gradio\\blocks.py\", line 1931, in process_api\n",
      "    result = await self.call_function(\n",
      "             ^^^^^^^^^^^^^^^^^^^^^^^^^\n",
      "  File \"c:\\Users\\nick\\anaconda3\\Lib\\site-packages\\gradio\\blocks.py\", line 1516, in call_function\n",
      "    prediction = await anyio.to_thread.run_sync(  # type: ignore\n",
      "                 ^^^^^^^^^^^^^^^^^^^^^^^^^^^^^^^^^^^^^^^^^^^^^^^\n",
      "  File \"c:\\Users\\nick\\anaconda3\\Lib\\site-packages\\anyio\\to_thread.py\", line 56, in run_sync\n",
      "    return await get_async_backend().run_sync_in_worker_thread(\n",
      "           ^^^^^^^^^^^^^^^^^^^^^^^^^^^^^^^^^^^^^^^^^^^^^^^^^^^^\n",
      "  File \"c:\\Users\\nick\\anaconda3\\Lib\\site-packages\\anyio\\_backends\\_asyncio.py\", line 2134, in run_sync_in_worker_thread\n",
      "    return await future\n",
      "           ^^^^^^^^^^^^\n",
      "  File \"c:\\Users\\nick\\anaconda3\\Lib\\site-packages\\anyio\\_backends\\_asyncio.py\", line 851, in run\n",
      "    result = context.run(func, *args)\n",
      "             ^^^^^^^^^^^^^^^^^^^^^^^^\n",
      "  File \"c:\\Users\\nick\\anaconda3\\Lib\\site-packages\\gradio\\utils.py\", line 826, in wrapper\n",
      "    response = f(*args, **kwargs)\n",
      "               ^^^^^^^^^^^^^^^^^^\n",
      "  File \"c:\\Users\\nick\\Desktop\\AI_Bootcamp\\group_projects\\project-3\\combined_gui.py\", line 34, in run_model\n",
      "    prediction = model.predict(expanded_img)\n",
      "                 ^^^^^^^^^^^^^^^^^^^^^^^^^^^\n",
      "  File \"c:\\Users\\nick\\anaconda3\\Lib\\site-packages\\keras\\src\\utils\\traceback_utils.py\", line 70, in error_handler\n",
      "    raise e.with_traceback(filtered_tb) from None\n",
      "  File \"c:\\Users\\nick\\anaconda3\\Lib\\site-packages\\tensorflow\\python\\eager\\execute.py\", line 59, in quick_execute\n",
      "    except TypeError as e:\n",
      "tensorflow.python.framework.errors_impl.InvalidArgumentError: Graph execution error:\n",
      "\n",
      "Detected at node 'sequential_2/conv2d_8/Relu' defined at (most recent call last):\n",
      "    File \"c:\\Users\\nick\\anaconda3\\Lib\\threading.py\", line 1002, in _bootstrap\n",
      "      self._bootstrap_inner()\n",
      "    File \"c:\\Users\\nick\\anaconda3\\Lib\\threading.py\", line 1045, in _bootstrap_inner\n",
      "      self.run()\n",
      "    File \"c:\\Users\\nick\\anaconda3\\Lib\\site-packages\\anyio\\_backends\\_asyncio.py\", line 851, in run\n",
      "      result = context.run(func, *args)\n",
      "    File \"c:\\Users\\nick\\anaconda3\\Lib\\site-packages\\gradio\\utils.py\", line 826, in wrapper\n",
      "      response = f(*args, **kwargs)\n",
      "    File \"c:\\Users\\nick\\Desktop\\AI_Bootcamp\\group_projects\\project-3\\combined_gui.py\", line 34, in run_model\n",
      "      prediction = model.predict(expanded_img)\n",
      "    File \"c:\\Users\\nick\\anaconda3\\Lib\\site-packages\\keras\\src\\utils\\traceback_utils.py\", line 65, in error_handler\n",
      "      return fn(*args, **kwargs)\n",
      "    File \"c:\\Users\\nick\\anaconda3\\Lib\\site-packages\\keras\\src\\engine\\training.py\", line 2554, in predict\n",
      "      tmp_batch_outputs = self.predict_function(iterator)\n",
      "    File \"c:\\Users\\nick\\anaconda3\\Lib\\site-packages\\keras\\src\\engine\\training.py\", line 2341, in predict_function\n",
      "      return step_function(self, iterator)\n",
      "    File \"c:\\Users\\nick\\anaconda3\\Lib\\site-packages\\keras\\src\\engine\\training.py\", line 2327, in step_function\n",
      "      outputs = model.distribute_strategy.run(run_step, args=(data,))\n",
      "    File \"c:\\Users\\nick\\anaconda3\\Lib\\site-packages\\keras\\src\\engine\\training.py\", line 2315, in run_step\n",
      "      outputs = model.predict_step(data)\n",
      "    File \"c:\\Users\\nick\\anaconda3\\Lib\\site-packages\\keras\\src\\engine\\training.py\", line 2283, in predict_step\n",
      "      return self(x, training=False)\n",
      "    File \"c:\\Users\\nick\\anaconda3\\Lib\\site-packages\\keras\\src\\utils\\traceback_utils.py\", line 65, in error_handler\n",
      "      return fn(*args, **kwargs)\n",
      "    File \"c:\\Users\\nick\\anaconda3\\Lib\\site-packages\\keras\\src\\engine\\training.py\", line 569, in __call__\n",
      "      return super().__call__(*args, **kwargs)\n",
      "    File \"c:\\Users\\nick\\anaconda3\\Lib\\site-packages\\keras\\src\\utils\\traceback_utils.py\", line 65, in error_handler\n",
      "      return fn(*args, **kwargs)\n",
      "    File \"c:\\Users\\nick\\anaconda3\\Lib\\site-packages\\keras\\src\\engine\\base_layer.py\", line 1150, in __call__\n",
      "      outputs = call_fn(inputs, *args, **kwargs)\n",
      "    File \"c:\\Users\\nick\\anaconda3\\Lib\\site-packages\\keras\\src\\utils\\traceback_utils.py\", line 96, in error_handler\n",
      "      return fn(*args, **kwargs)\n",
      "    File \"c:\\Users\\nick\\anaconda3\\Lib\\site-packages\\keras\\src\\engine\\sequential.py\", line 405, in call\n",
      "      return super().call(inputs, training=training, mask=mask)\n",
      "    File \"c:\\Users\\nick\\anaconda3\\Lib\\site-packages\\keras\\src\\engine\\functional.py\", line 512, in call\n",
      "      return self._run_internal_graph(inputs, training=training, mask=mask)\n",
      "    File \"c:\\Users\\nick\\anaconda3\\Lib\\site-packages\\keras\\src\\engine\\functional.py\", line 669, in _run_internal_graph\n",
      "      outputs = node.layer(*args, **kwargs)\n",
      "    File \"c:\\Users\\nick\\anaconda3\\Lib\\site-packages\\keras\\src\\utils\\traceback_utils.py\", line 65, in error_handler\n",
      "      return fn(*args, **kwargs)\n",
      "    File \"c:\\Users\\nick\\anaconda3\\Lib\\site-packages\\keras\\src\\engine\\base_layer.py\", line 1150, in __call__\n",
      "      outputs = call_fn(inputs, *args, **kwargs)\n",
      "    File \"c:\\Users\\nick\\anaconda3\\Lib\\site-packages\\keras\\src\\utils\\traceback_utils.py\", line 96, in error_handler\n",
      "      return fn(*args, **kwargs)\n",
      "    File \"c:\\Users\\nick\\anaconda3\\Lib\\site-packages\\keras\\src\\layers\\convolutional\\base_conv.py\", line 321, in call\n",
      "      return self.activation(outputs)\n",
      "    File \"c:\\Users\\nick\\anaconda3\\Lib\\site-packages\\keras\\src\\activations.py\", line 321, in relu\n",
      "      return backend.relu(\n",
      "    File \"c:\\Users\\nick\\anaconda3\\Lib\\site-packages\\keras\\src\\backend.py\", line 5397, in relu\n",
      "      x = tf.nn.relu(x)\n",
      "Node: 'sequential_2/conv2d_8/Relu'\n",
      "convolution input must be 4-dimensional: [1,60,64]\n",
      "\t [[{{node sequential_2/conv2d_8/Relu}}]] [Op:__inference_predict_function_74392401]\n"
     ]
    },
    {
     "name": "stdout",
     "output_type": "stream",
     "text": [
      "1/1 [==============================] - 0s 49ms/step\n",
      "1\n",
      "1/1 [==============================] - 0s 79ms/step\n",
      "1/1 [==============================] - 0s 39ms/step\n",
      "1\n",
      "1/1 [==============================] - 0s 82ms/step\n",
      "1/1 [==============================] - 0s 56ms/step\n",
      "1\n",
      "1/1 [==============================] - 0s 65ms/step\n",
      "1/1 [==============================] - 0s 63ms/step\n",
      "1\n",
      "1/1 [==============================] - 0s 52ms/step\n"
     ]
    }
   ],
   "source": [
    "import pickle\n",
    "import gradio as gr\n",
    "# load model to use\n",
    "model_pkl = 'first_binary_model.pkl'\n",
    "  \n",
    "# load model from pickle file\n",
    "with open(model_pkl, 'rb') as file:  \n",
    "    model = pickle.load(file)  \n",
    "from combined_gui import predict\n",
    "weapon_list = [1,0]\n",
    "print(weapon_list)\n",
    "predict(model, (64, 60))"
   ]
  },
  {
   "cell_type": "code",
   "execution_count": null,
   "metadata": {},
   "outputs": [],
   "source": []
  }
 ],
 "metadata": {
  "kernelspec": {
   "display_name": "base",
   "language": "python",
   "name": "python3"
  },
  "language_info": {
   "codemirror_mode": {
    "name": "ipython",
    "version": 3
   },
   "file_extension": ".py",
   "mimetype": "text/x-python",
   "name": "python",
   "nbconvert_exporter": "python",
   "pygments_lexer": "ipython3",
   "version": "3.11.7"
  }
 },
 "nbformat": 4,
 "nbformat_minor": 2
}
