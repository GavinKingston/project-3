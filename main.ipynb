{
 "cells": [
  {
   "cell_type": "code",
   "execution_count": 1,
   "metadata": {},
   "outputs": [],
   "source": [
    "import pickle\n",
    "#import gradio as gr\n",
    "from combined_gui import predict\n",
    "\n",
    "# Load binary_model to use\n",
    "model_pkl = './models/second_binary_model.pkl'\n",
    "\n",
    "# Load model from pickle file\n",
    "with open(model_pkl, 'rb') as file:  \n",
    "    model = pickle.load(file)  \n",
    "\n",
    "# call the predict function\n",
    "predict(model, (64, 60))"
   ]
  },
  {
   "cell_type": "code",
   "execution_count": null,
   "metadata": {},
   "outputs": [],
   "source": [
    "# call the predict function\n",
    "import pickle\n",
    "from combined_gui import vid_predict\n",
    "\n",
    "# Load binary_model to use\n",
    "model_pkl = './models/second_binary_model.pkl'\n",
    "  \n",
    "# Load model from pickle file\n",
    "with open(model_pkl, 'rb') as file:  \n",
    "    model = pickle.load(file)  \n",
    "\n",
    "vid_predict(model, (64, 60))"
   ]
  },
  {
   "cell_type": "code",
   "execution_count": null,
   "metadata": {},
   "outputs": [],
   "source": []
  }
 ],
 "metadata": {
  "kernelspec": {
   "display_name": "base",
   "language": "python",
   "name": "python3"
  },
  "language_info": {
   "codemirror_mode": {
    "name": "ipython",
    "version": 3
   },
   "file_extension": ".py",
   "mimetype": "text/x-python",
   "name": "python",
   "nbconvert_exporter": "python",
   "pygments_lexer": "ipython3",
   "version": "3.10.14"
  }
 },
 "nbformat": 4,
 "nbformat_minor": 2
}
